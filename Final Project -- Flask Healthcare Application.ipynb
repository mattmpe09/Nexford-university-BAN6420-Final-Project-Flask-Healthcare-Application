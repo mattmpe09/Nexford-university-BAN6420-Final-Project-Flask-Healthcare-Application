{
 "cells": [
  {
   "cell_type": "code",
   "execution_count": 1,
   "id": "51a86019",
   "metadata": {},
   "outputs": [],
   "source": [
    "# This code creates a class called User\n",
    "class User:\n",
    "    def __init__(self, name, age, gender, income, spending_category):\n",
    "        self.name = name\n",
    "        self.age = age\n",
    "        self.gender = gender\n",
    "        self.income = income\n",
    "        self.spending_category = spending_category"
   ]
  },
  {
   "cell_type": "code",
   "execution_count": 2,
   "id": "11a7aa41",
   "metadata": {},
   "outputs": [],
   "source": [
    "# This code Loops through the collected data and store it in a CSV file.\n",
    "import csv\n",
    "\n",
    "# Sample data\n",
    "users = [\n",
    "    User(\"Alice\", 34, \"Female\", 75000, \"Travel\"),\n",
    "    User(\"Bob\", 45, \"Male\", 120000, \"Tech\"),\n",
    "    User(\"Charlie\", 29, \"Male\", 68000, \"Fashion\"),\n",
    "    User(\"Diana\", 52, \"Female\", 135000, \"Real Estate\"),\n",
    "    User(\"Eve\", 41, \"Female\", 98000, \"Health\"),\n",
    "]\n",
    "\n",
    "# Write to CSV\n",
    "with open(\"user_data.csv\", mode=\"w\", newline=\"\") as file:\n",
    "    writer = csv.writer(file)\n",
    "    writer.writerow([\"Name\", \"Age\", \"Gender\", \"Income\", \"Spending_Category\"])\n",
    "    for user in users:\n",
    "        writer.writerow([user.name, user.age, user.gender, user.income, user.spending_category])\n"
   ]
  },
  {
   "cell_type": "code",
   "execution_count": 3,
   "id": "3e9518cd",
   "metadata": {},
   "outputs": [
    {
     "data": {
      "text/html": [
       "<div>\n",
       "<style scoped>\n",
       "    .dataframe tbody tr th:only-of-type {\n",
       "        vertical-align: middle;\n",
       "    }\n",
       "\n",
       "    .dataframe tbody tr th {\n",
       "        vertical-align: top;\n",
       "    }\n",
       "\n",
       "    .dataframe thead th {\n",
       "        text-align: right;\n",
       "    }\n",
       "</style>\n",
       "<table border=\"1\" class=\"dataframe\">\n",
       "  <thead>\n",
       "    <tr style=\"text-align: right;\">\n",
       "      <th></th>\n",
       "      <th>Name</th>\n",
       "      <th>Age</th>\n",
       "      <th>Gender</th>\n",
       "      <th>Income</th>\n",
       "      <th>Spending_Category</th>\n",
       "    </tr>\n",
       "  </thead>\n",
       "  <tbody>\n",
       "    <tr>\n",
       "      <th>0</th>\n",
       "      <td>Alice</td>\n",
       "      <td>34</td>\n",
       "      <td>Female</td>\n",
       "      <td>75000</td>\n",
       "      <td>Travel</td>\n",
       "    </tr>\n",
       "    <tr>\n",
       "      <th>1</th>\n",
       "      <td>Bob</td>\n",
       "      <td>45</td>\n",
       "      <td>Male</td>\n",
       "      <td>120000</td>\n",
       "      <td>Tech</td>\n",
       "    </tr>\n",
       "    <tr>\n",
       "      <th>2</th>\n",
       "      <td>Charlie</td>\n",
       "      <td>29</td>\n",
       "      <td>Male</td>\n",
       "      <td>68000</td>\n",
       "      <td>Fashion</td>\n",
       "    </tr>\n",
       "    <tr>\n",
       "      <th>3</th>\n",
       "      <td>Diana</td>\n",
       "      <td>52</td>\n",
       "      <td>Female</td>\n",
       "      <td>135000</td>\n",
       "      <td>Real Estate</td>\n",
       "    </tr>\n",
       "    <tr>\n",
       "      <th>4</th>\n",
       "      <td>Eve</td>\n",
       "      <td>41</td>\n",
       "      <td>Female</td>\n",
       "      <td>98000</td>\n",
       "      <td>Health</td>\n",
       "    </tr>\n",
       "  </tbody>\n",
       "</table>\n",
       "</div>"
      ],
      "text/plain": [
       "      Name  Age  Gender  Income Spending_Category\n",
       "0    Alice   34  Female   75000            Travel\n",
       "1      Bob   45    Male  120000              Tech\n",
       "2  Charlie   29    Male   68000           Fashion\n",
       "3    Diana   52  Female  135000       Real Estate\n",
       "4      Eve   41  Female   98000            Health"
      ]
     },
     "execution_count": 3,
     "metadata": {},
     "output_type": "execute_result"
    }
   ],
   "source": [
    "# This code loads the CSV file into a Jupyter notebook\n",
    "import pandas as pd\n",
    "\n",
    "df = pd.read_csv(\"user_data.csv\")\n",
    "df.head()"
   ]
  },
  {
   "cell_type": "code",
   "execution_count": 4,
   "id": "5084015f",
   "metadata": {},
   "outputs": [
    {
     "name": "stderr",
     "output_type": "stream",
     "text": [
      "C:\\Users\\user\\anaconda3\\lib\\site-packages\\scipy\\__init__.py:146: UserWarning: A NumPy version >=1.16.5 and <1.23.0 is required for this version of SciPy (detected version 1.26.4\n",
      "  warnings.warn(f\"A NumPy version >={np_minversion} and <{np_maxversion}\"\n"
     ]
    },
    {
     "data": {
      "image/png": "[encoded data removed]",
      "text/plain": [
       "<Figure size 576x360 with 1 Axes>"
      ]
     },
     "metadata": {
      "needs_background": "light"
     },
     "output_type": "display_data"
    }
   ],
   "source": [
    "# Show the ages with the highest income.\n",
    "import matplotlib.pyplot as plt\n",
    "import seaborn as sns\n",
    "\n",
    "plt.figure(figsize=(8, 5))\n",
    "sns.barplot(x=\"Age\", y=\"Income\", data=df, palette=\"viridis\")\n",
    "plt.title(\"Income by Age\")\n",
    "plt.xlabel(\"Age\")\n",
    "plt.ylabel(\"Income\")\n",
    "plt.tight_layout()\n",
    "plt.savefig(\"income_by_age.png\")  # Export for PowerPoint\n",
    "plt.show()"
   ]
  },
  {
   "cell_type": "code",
   "execution_count": 5,
   "id": "82c537d6",
   "metadata": {},
   "outputs": [
    {
     "data": {
      "image/png": "[encoded data removed]",
      "text/plain": [
       "<Figure size 576x360 with 1 Axes>"
      ]
     },
     "metadata": {
      "needs_background": "light"
     },
     "output_type": "display_data"
    }
   ],
   "source": [
    "# Show the gender distribution across spending categories.\n",
    "plt.figure(figsize=(8, 5))\n",
    "sns.countplot(x=\"Spending_Category\", hue=\"Gender\", data=df, palette=\"Set2\")\n",
    "plt.title(\"Gender Distribution by Spending Category\")\n",
    "plt.xlabel(\"Spending Category\")\n",
    "plt.ylabel(\"Count\")\n",
    "plt.legend(title=\"Gender\")\n",
    "plt.tight_layout()\n",
    "plt.savefig(\"gender_spending_distribution.png\")  # Export for PowerPoint\n",
    "plt.show()"
   ]
  },
  {
   "cell_type": "code",
   "execution_count": 6,
   "id": "dcda533f",
   "metadata": {},
   "outputs": [
    {
     "name": "stdout",
     "output_type": "stream",
     "text": [
      "Collecting python-pptx\n",
      "  Downloading python_pptx-1.0.2-py3-none-any.whl (472 kB)\n",
      "Requirement already satisfied: XlsxWriter>=0.5.7 in c:\\users\\user\\anaconda3\\lib\\site-packages (from python-pptx) (3.0.3)\n",
      "Requirement already satisfied: lxml>=3.1.0 in c:\\users\\user\\anaconda3\\lib\\site-packages (from python-pptx) (4.8.0)\n",
      "Requirement already satisfied: typing-extensions>=4.9.0 in c:\\users\\user\\anaconda3\\lib\\site-packages (from python-pptx) (4.14.1)\n",
      "Requirement already satisfied: Pillow>=3.3.2 in c:\\users\\user\\anaconda3\\lib\\site-packages (from python-pptx) (9.0.1)\n",
      "Installing collected packages: python-pptx\n",
      "Successfully installed python-pptx-1.0.2\n",
      "Note: you may need to restart the kernel to use updated packages.\n"
     ]
    }
   ],
   "source": [
    "pip install python-pptx"
   ]
  },
  {
   "cell_type": "code",
   "execution_count": 8,
   "id": "64a3a288",
   "metadata": {},
   "outputs": [
    {
     "data": {
      "text/plain": [
       "<Figure size 432x288 with 0 Axes>"
      ]
     },
     "metadata": {},
     "output_type": "display_data"
    }
   ],
   "source": [
    "plt.savefig(\"income_by_age.png\", dpi=300, bbox_inches='tight')\n",
    "plt.savefig(\"gender_spending_distribution.png\", dpi=300, bbox_inches='tight')"
   ]
  },
  {
   "cell_type": "code",
   "execution_count": 9,
   "id": "043f21a5",
   "metadata": {},
   "outputs": [],
   "source": [
    "# Exports the charts for use in a PowerPoint presentation. \n",
    "from pptx import Presentation\n",
    "from pptx.util import Inches\n",
    "\n",
    "# Create a new presentation\n",
    "prs = Presentation()\n",
    "\n",
    "# Title Slide\n",
    "slide = prs.slides.add_slide(prs.slide_layouts[0])\n",
    "slide.shapes.title.text = \"User Data Insights\"\n",
    "slide.placeholders[1].text = \"Visualizations for Client Review\"\n",
    "\n",
    "# Slide: Income by Age\n",
    "slide = prs.slides.add_slide(prs.slide_layouts[5])\n",
    "slide.shapes.title.text = \"Income by Age\"\n",
    "slide.shapes.add_picture(\"income_by_age.png\", Inches(1), Inches(1.5), width=Inches(8))\n",
    "\n",
    "# Slide: Gender Distribution\n",
    "slide = prs.slides.add_slide(prs.slide_layouts[5])\n",
    "slide.shapes.title.text = \"Gender Distribution by Spending Category\"\n",
    "slide.shapes.add_picture(\"gender_spending_distribution.png\", Inches(1), Inches(1.5), width=Inches(8))\n",
    "\n",
    "# Save the presentation\n",
    "prs.save(\"Client_Insights_Presentation.pptx\")"
   ]
  },
  {
   "cell_type": "code",
   "execution_count": null,
   "id": "764235c8",
   "metadata": {},
   "outputs": [],
   "source": []
  }
 ],
 "metadata": {
  "kernelspec": {
   "display_name": "Python 3 (ipykernel)",
   "language": "python",
   "name": "python3"
  },
  "language_info": {
   "codemirror_mode": {
    "name": "ipython",
    "version": 3
   },
   "file_extension": ".py",
   "mimetype": "text/x-python",
   "name": "python",
   "nbconvert_exporter": "python",
   "pygments_lexer": "ipython3",
   "version": "3.9.12"
  }
 },
 "nbformat": 4,
 "nbformat_minor": 5
}
